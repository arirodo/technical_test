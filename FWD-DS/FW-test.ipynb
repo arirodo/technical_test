{
 "cells": [
  {
   "cell_type": "markdown",
   "id": "d5f77239-ab04-40e3-8a39-2152053df1b1",
   "metadata": {},
   "source": [
    "# FWD - Data Science Assessment"
   ]
  },
  {
   "cell_type": "markdown",
   "id": "875bf920-576a-423a-bb76-bc7dd04171d7",
   "metadata": {
    "jp-MarkdownHeadingCollapsed": true,
    "tags": []
   },
   "source": [
    "## 1 - Import libraries"
   ]
  },
  {
   "cell_type": "code",
   "execution_count": 1,
   "id": "2527a07c-48e8-495c-81ff-cb838f67b8d8",
   "metadata": {
    "tags": []
   },
   "outputs": [],
   "source": [
    "import pandas as pd\n",
    "import matplotlib.pyplot as plt"
   ]
  },
  {
   "cell_type": "markdown",
   "id": "660846ca-3b5e-47ff-8fdc-02e958d900af",
   "metadata": {
    "jp-MarkdownHeadingCollapsed": true,
    "tags": []
   },
   "source": [
    "## 2 - Data Loading"
   ]
  },
  {
   "cell_type": "code",
   "execution_count": 2,
   "id": "16fb49c7-e798-4461-9120-6143b02661a0",
   "metadata": {
    "tags": []
   },
   "outputs": [],
   "source": [
    "traffic_df = pd.read_csv('case_study_junior_ds.csv')"
   ]
  },
  {
   "cell_type": "markdown",
   "id": "3944bbdd-02af-4552-9904-e883750e4535",
   "metadata": {
    "jp-MarkdownHeadingCollapsed": true,
    "tags": []
   },
   "source": [
    "## 3 - Data Exploration"
   ]
  },
  {
   "cell_type": "markdown",
   "id": "de02069c-bffe-491d-8c8a-3829a510be60",
   "metadata": {
    "jp-MarkdownHeadingCollapsed": true,
    "tags": []
   },
   "source": [
    "### 3.1 - Basic Exploration"
   ]
  },
  {
   "cell_type": "code",
   "execution_count": 3,
   "id": "d31ebb1a-b5c3-4360-b28f-c38191874294",
   "metadata": {
    "tags": []
   },
   "outputs": [
    {
     "data": {
      "text/html": [
       "<div>\n",
       "<style scoped>\n",
       "    .dataframe tbody tr th:only-of-type {\n",
       "        vertical-align: middle;\n",
       "    }\n",
       "\n",
       "    .dataframe tbody tr th {\n",
       "        vertical-align: top;\n",
       "    }\n",
       "\n",
       "    .dataframe thead th {\n",
       "        text-align: right;\n",
       "    }\n",
       "</style>\n",
       "<table border=\"1\" class=\"dataframe\">\n",
       "  <thead>\n",
       "    <tr style=\"text-align: right;\">\n",
       "      <th></th>\n",
       "      <th>keyword_id</th>\n",
       "      <th>keyword_rank</th>\n",
       "      <th>date</th>\n",
       "      <th>searches</th>\n",
       "      <th>search_engine</th>\n",
       "    </tr>\n",
       "  </thead>\n",
       "  <tbody>\n",
       "    <tr>\n",
       "      <th>360182</th>\n",
       "      <td>2310692417130</td>\n",
       "      <td>315482</td>\n",
       "      <td>2022-07-08</td>\n",
       "      <td>0</td>\n",
       "      <td>11</td>\n",
       "    </tr>\n",
       "    <tr>\n",
       "      <th>78141</th>\n",
       "      <td>68719904205</td>\n",
       "      <td>11939</td>\n",
       "      <td>2022-07-13</td>\n",
       "      <td>68480</td>\n",
       "      <td>1</td>\n",
       "    </tr>\n",
       "    <tr>\n",
       "      <th>124953</th>\n",
       "      <td>3289945028678</td>\n",
       "      <td>1961459</td>\n",
       "      <td>2022-07-08</td>\n",
       "      <td>0</td>\n",
       "      <td>4</td>\n",
       "    </tr>\n",
       "    <tr>\n",
       "      <th>364203</th>\n",
       "      <td>738734398340</td>\n",
       "      <td>124971</td>\n",
       "      <td>2022-07-09</td>\n",
       "      <td>1000</td>\n",
       "      <td>11</td>\n",
       "    </tr>\n",
       "    <tr>\n",
       "      <th>223696</th>\n",
       "      <td>635655214426</td>\n",
       "      <td>184709</td>\n",
       "      <td>2022-07-13</td>\n",
       "      <td>1000</td>\n",
       "      <td>5</td>\n",
       "    </tr>\n",
       "  </tbody>\n",
       "</table>\n",
       "</div>"
      ],
      "text/plain": [
       "           keyword_id  keyword_rank        date  searches  search_engine\n",
       "360182  2310692417130        315482  2022-07-08         0             11\n",
       "78141     68719904205         11939  2022-07-13     68480              1\n",
       "124953  3289945028678       1961459  2022-07-08         0              4\n",
       "364203   738734398340        124971  2022-07-09      1000             11\n",
       "223696   635655214426        184709  2022-07-13      1000              5"
      ]
     },
     "execution_count": 3,
     "metadata": {},
     "output_type": "execute_result"
    }
   ],
   "source": [
    "# Visualization of the dataframe with a random sampling\n",
    "traffic_df.sample(5)"
   ]
  },
  {
   "cell_type": "code",
   "execution_count": 4,
   "id": "08f6dc0f-f5ce-48cc-a14c-e7497de08658",
   "metadata": {
    "tags": []
   },
   "outputs": [
    {
     "name": "stdout",
     "output_type": "stream",
     "text": [
      "<class 'pandas.core.frame.DataFrame'>\n",
      "RangeIndex: 469308 entries, 0 to 469307\n",
      "Data columns (total 5 columns):\n",
      " #   Column         Non-Null Count   Dtype \n",
      "---  ------         --------------   ----- \n",
      " 0   keyword_id     469308 non-null  int64 \n",
      " 1   keyword_rank   469308 non-null  int64 \n",
      " 2   date           469308 non-null  object\n",
      " 3   searches       469308 non-null  int64 \n",
      " 4   search_engine  469308 non-null  int64 \n",
      "dtypes: int64(4), object(1)\n",
      "memory usage: 17.9+ MB\n"
     ]
    }
   ],
   "source": [
    "# General overview of null values, data types and columns\n",
    "traffic_df.info()"
   ]
  },
  {
   "cell_type": "code",
   "execution_count": 5,
   "id": "29266d5c-dba3-4ff7-8490-7b2264d1f962",
   "metadata": {
    "tags": []
   },
   "outputs": [
    {
     "name": "stdout",
     "output_type": "stream",
     "text": [
      "<class 'pandas.core.frame.DataFrame'>\n",
      "RangeIndex: 469308 entries, 0 to 469307\n",
      "Data columns (total 5 columns):\n",
      " #   Column         Non-Null Count   Dtype         \n",
      "---  ------         --------------   -----         \n",
      " 0   keyword_id     469308 non-null  int64         \n",
      " 1   keyword_rank   469308 non-null  int64         \n",
      " 2   date           469308 non-null  datetime64[ns]\n",
      " 3   searches       469308 non-null  int64         \n",
      " 4   search_engine  469308 non-null  int64         \n",
      "dtypes: datetime64[ns](1), int64(4)\n",
      "memory usage: 17.9 MB\n"
     ]
    }
   ],
   "source": [
    "\"\"\"\n",
    "In the examination of the dataframe, five fields with 469,308 records containing non-null values have been identified. \n",
    "It is observed that the 'Date' field is currently stored as an object. To enhance data manipulation and analysis, \n",
    "consideration is being given to converting it into a datetime format.\n",
    "\"\"\"\n",
    "\n",
    "traffic_df.date = pd.to_datetime(traffic_df.date)\n",
    "traffic_df.info()"
   ]
  },
  {
   "cell_type": "code",
   "execution_count": 6,
   "id": "9db17556-dc2d-43f0-a74c-64c7a7269bf9",
   "metadata": {
    "tags": []
   },
   "outputs": [
    {
     "data": {
      "text/plain": [
       "keyword_id       109143\n",
       "keyword_rank     359306\n",
       "date                  7\n",
       "searches          24158\n",
       "search_engine        26\n",
       "dtype: int64"
      ]
     },
     "execution_count": 6,
     "metadata": {},
     "output_type": "execute_result"
    }
   ],
   "source": [
    "# The unique values for each field are examined, providing insights into the distinct counts of keyword_ids, dates, and search_engines. \n",
    "# This information is relevant for understanding the diversity within these fields.\n",
    "traffic_df.nunique()"
   ]
  },
  {
   "cell_type": "code",
   "execution_count": 7,
   "id": "7416f293-5a04-4ec9-89ad-9a6bbc27b26c",
   "metadata": {
    "tags": []
   },
   "outputs": [
    {
     "data": {
      "text/html": [
       "<div>\n",
       "<style scoped>\n",
       "    .dataframe tbody tr th:only-of-type {\n",
       "        vertical-align: middle;\n",
       "    }\n",
       "\n",
       "    .dataframe tbody tr th {\n",
       "        vertical-align: top;\n",
       "    }\n",
       "\n",
       "    .dataframe thead th {\n",
       "        text-align: right;\n",
       "    }\n",
       "</style>\n",
       "<table border=\"1\" class=\"dataframe\">\n",
       "  <thead>\n",
       "    <tr style=\"text-align: right;\">\n",
       "      <th></th>\n",
       "      <th>keyword_id</th>\n",
       "      <th>keyword_rank</th>\n",
       "      <th>date</th>\n",
       "      <th>searches</th>\n",
       "      <th>search_engine</th>\n",
       "    </tr>\n",
       "  </thead>\n",
       "  <tbody>\n",
       "    <tr>\n",
       "      <th>count</th>\n",
       "      <td>4.693080e+05</td>\n",
       "      <td>4.693080e+05</td>\n",
       "      <td>469308</td>\n",
       "      <td>4.693080e+05</td>\n",
       "      <td>469308.000000</td>\n",
       "    </tr>\n",
       "    <tr>\n",
       "      <th>mean</th>\n",
       "      <td>1.955014e+12</td>\n",
       "      <td>7.439009e+05</td>\n",
       "      <td>2022-07-10 23:33:51.276687360</td>\n",
       "      <td>8.550373e+03</td>\n",
       "      <td>6.818188</td>\n",
       "    </tr>\n",
       "    <tr>\n",
       "      <th>min</th>\n",
       "      <td>5.850000e+03</td>\n",
       "      <td>3.000000e+00</td>\n",
       "      <td>2022-07-08 00:00:00</td>\n",
       "      <td>0.000000e+00</td>\n",
       "      <td>0.000000</td>\n",
       "    </tr>\n",
       "    <tr>\n",
       "      <th>25%</th>\n",
       "      <td>7.988642e+11</td>\n",
       "      <td>7.421850e+04</td>\n",
       "      <td>2022-07-09 00:00:00</td>\n",
       "      <td>0.000000e+00</td>\n",
       "      <td>3.000000</td>\n",
       "    </tr>\n",
       "    <tr>\n",
       "      <th>50%</th>\n",
       "      <td>1.838246e+12</td>\n",
       "      <td>2.360955e+05</td>\n",
       "      <td>2022-07-11 00:00:00</td>\n",
       "      <td>0.000000e+00</td>\n",
       "      <td>5.000000</td>\n",
       "    </tr>\n",
       "    <tr>\n",
       "      <th>75%</th>\n",
       "      <td>3.049427e+12</td>\n",
       "      <td>7.821010e+05</td>\n",
       "      <td>2022-07-13 00:00:00</td>\n",
       "      <td>3.000000e+03</td>\n",
       "      <td>10.000000</td>\n",
       "    </tr>\n",
       "    <tr>\n",
       "      <th>max</th>\n",
       "      <td>4.389457e+12</td>\n",
       "      <td>1.391182e+07</td>\n",
       "      <td>2022-07-14 00:00:00</td>\n",
       "      <td>1.863716e+07</td>\n",
       "      <td>25.000000</td>\n",
       "    </tr>\n",
       "    <tr>\n",
       "      <th>std</th>\n",
       "      <td>1.290018e+12</td>\n",
       "      <td>1.388063e+06</td>\n",
       "      <td>NaN</td>\n",
       "      <td>8.279563e+04</td>\n",
       "      <td>5.185202</td>\n",
       "    </tr>\n",
       "  </tbody>\n",
       "</table>\n",
       "</div>"
      ],
      "text/plain": [
       "         keyword_id  keyword_rank                           date  \\\n",
       "count  4.693080e+05  4.693080e+05                         469308   \n",
       "mean   1.955014e+12  7.439009e+05  2022-07-10 23:33:51.276687360   \n",
       "min    5.850000e+03  3.000000e+00            2022-07-08 00:00:00   \n",
       "25%    7.988642e+11  7.421850e+04            2022-07-09 00:00:00   \n",
       "50%    1.838246e+12  2.360955e+05            2022-07-11 00:00:00   \n",
       "75%    3.049427e+12  7.821010e+05            2022-07-13 00:00:00   \n",
       "max    4.389457e+12  1.391182e+07            2022-07-14 00:00:00   \n",
       "std    1.290018e+12  1.388063e+06                            NaN   \n",
       "\n",
       "           searches  search_engine  \n",
       "count  4.693080e+05  469308.000000  \n",
       "mean   8.550373e+03       6.818188  \n",
       "min    0.000000e+00       0.000000  \n",
       "25%    0.000000e+00       3.000000  \n",
       "50%    0.000000e+00       5.000000  \n",
       "75%    3.000000e+03      10.000000  \n",
       "max    1.863716e+07      25.000000  \n",
       "std    8.279563e+04       5.185202  "
      ]
     },
     "execution_count": 7,
     "metadata": {},
     "output_type": "execute_result"
    }
   ],
   "source": [
    "\"\"\"\n",
    "Dataframe shows a standard deviation (std) of 1388063 for keyword_rank, which suggests a high spread of values. \n",
    "Also searches has a high std of 82795 and at least half of the searches have 0 as a value.\n",
    "\"\"\"\n",
    "\n",
    "traffic_df.describe()"
   ]
  },
  {
   "cell_type": "code",
   "execution_count": 8,
   "id": "67cf6c2f-b802-493f-89d5-c937cded1164",
   "metadata": {
    "tags": []
   },
   "outputs": [
    {
     "data": {
      "text/plain": [
       "{Timestamp('2022-07-08 00:00:00'),\n",
       " Timestamp('2022-07-09 00:00:00'),\n",
       " Timestamp('2022-07-10 00:00:00'),\n",
       " Timestamp('2022-07-11 00:00:00'),\n",
       " Timestamp('2022-07-12 00:00:00'),\n",
       " Timestamp('2022-07-13 00:00:00'),\n",
       " Timestamp('2022-07-14 00:00:00')}"
      ]
     },
     "execution_count": 8,
     "metadata": {},
     "output_type": "execute_result"
    }
   ],
   "source": [
    "\"\"\"\n",
    "Dataframe contains data from 7 consecutive days\n",
    "\"\"\"\n",
    "\n",
    "set(traffic_df.date)"
   ]
  },
  {
   "cell_type": "markdown",
   "id": "76401669-13c8-4b41-ac1b-3633b15f9f8d",
   "metadata": {
    "jp-MarkdownHeadingCollapsed": true,
    "tags": []
   },
   "source": [
    "### 3.2 - Does a keyword_id appear in multiple search_engine?"
   ]
  },
  {
   "cell_type": "markdown",
   "id": "aa0adfbb-7d2f-4847-bef3-4e02ce26c56b",
   "metadata": {},
   "source": [
    "ANSWER: As shown in the graph below, it seems that each keyword_id only for only one search engine and it is not present in others."
   ]
  },
  {
   "cell_type": "code",
   "execution_count": 9,
   "id": "4ac05677-bce2-4aa0-9da3-4785e6fe0a2b",
   "metadata": {
    "tags": []
   },
   "outputs": [
    {
     "data": {
      "image/png": "[encoded data removed]",
      "text/plain": [
       "<Figure size 640x480 with 1 Axes>"
      ]
     },
     "metadata": {},
     "output_type": "display_data"
    }
   ],
   "source": [
    "# Visualizes on a bar plot the distribution of keywords based on the number of unique search engines associated with each keyword_id. \n",
    "# Groups the DataFrame by 'keyword_id' and calculates the number of unique search engines for each 'keyword_id'\n",
    "sengine_count = traffic_df.groupby('keyword_id')['search_engine'].nunique()\n",
    "\n",
    "# Plots the outcome of the groupby and add the labels to the x, y axis and title.\n",
    "sengine_count.value_counts().sort_index().plot(kind='bar', color='skyblue')\n",
    "plt.xlabel('Number of Search Engines') \n",
    "plt.ylabel('Number of Keywords')       \n",
    "plt.title('Distribution of Keywords by Number of Search Engines')\n",
    "\n",
    "plt.show()\n"
   ]
  },
  {
   "cell_type": "markdown",
   "id": "2a80c4ad-2a73-41fa-b516-ba067810d75f",
   "metadata": {
    "jp-MarkdownHeadingCollapsed": true,
    "tags": []
   },
   "source": [
    "## 4- Data Transformation and Aggregation"
   ]
  },
  {
   "cell_type": "markdown",
   "id": "131e5eab-9265-41f4-8bd4-0d68176edfce",
   "metadata": {},
   "source": [
    "In this section, achieving a balance between Rank and Search Volume is pursued by initially computing daily weighted ranks. This equilibrium is essential for extending the analysis to a weekly level and establishing the relative importance of each keyword within each search engine.\n",
    "\n",
    "Why is this calculation important?\n",
    "\n",
    "Calculating the weighted rank means looking at both a keyword's rank and how many searches it gets. This matters because a keyword might have a high rank, but if not many people search for it, it might not be as valuable. On the other hand, a keyword with a lower rank but lots of searches could be more important. So, the weighted rank helps us see the real importance of keywords by considering both their ranking and how popular they are."
   ]
  },
  {
   "cell_type": "markdown",
   "id": "045294f1-58ba-4bce-ba62-09f057271522",
   "metadata": {
    "jp-MarkdownHeadingCollapsed": true,
    "tags": []
   },
   "source": [
    "### 4.1 - Calculating Daily Weighted Rank and Pivot Aggregation"
   ]
  },
  {
   "cell_type": "code",
   "execution_count": 10,
   "id": "d7803c43-427f-489e-b06b-c0760e5c4505",
   "metadata": {
    "tags": []
   },
   "outputs": [
    {
     "data": {
      "text/html": [
       "<div>\n",
       "<style scoped>\n",
       "    .dataframe tbody tr th:only-of-type {\n",
       "        vertical-align: middle;\n",
       "    }\n",
       "\n",
       "    .dataframe tbody tr th {\n",
       "        vertical-align: top;\n",
       "    }\n",
       "\n",
       "    .dataframe thead th {\n",
       "        text-align: right;\n",
       "    }\n",
       "</style>\n",
       "<table border=\"1\" class=\"dataframe\">\n",
       "  <thead>\n",
       "    <tr style=\"text-align: right;\">\n",
       "      <th></th>\n",
       "      <th>keyword_id</th>\n",
       "      <th>keyword_rank</th>\n",
       "      <th>date</th>\n",
       "      <th>searches</th>\n",
       "      <th>search_engine</th>\n",
       "      <th>wr_daily</th>\n",
       "    </tr>\n",
       "  </thead>\n",
       "  <tbody>\n",
       "    <tr>\n",
       "      <th>0</th>\n",
       "      <td>338145</td>\n",
       "      <td>25218</td>\n",
       "      <td>2022-07-08</td>\n",
       "      <td>53000</td>\n",
       "      <td>0</td>\n",
       "      <td>1336554000</td>\n",
       "    </tr>\n",
       "    <tr>\n",
       "      <th>1</th>\n",
       "      <td>366846</td>\n",
       "      <td>906743</td>\n",
       "      <td>2022-07-08</td>\n",
       "      <td>0</td>\n",
       "      <td>0</td>\n",
       "      <td>0</td>\n",
       "    </tr>\n",
       "    <tr>\n",
       "      <th>2</th>\n",
       "      <td>8590017696</td>\n",
       "      <td>136761</td>\n",
       "      <td>2022-07-08</td>\n",
       "      <td>7000</td>\n",
       "      <td>0</td>\n",
       "      <td>957327000</td>\n",
       "    </tr>\n",
       "    <tr>\n",
       "      <th>3</th>\n",
       "      <td>8590268435</td>\n",
       "      <td>60380</td>\n",
       "      <td>2022-07-08</td>\n",
       "      <td>20033</td>\n",
       "      <td>0</td>\n",
       "      <td>1209592540</td>\n",
       "    </tr>\n",
       "    <tr>\n",
       "      <th>4</th>\n",
       "      <td>17179954797</td>\n",
       "      <td>239930</td>\n",
       "      <td>2022-07-08</td>\n",
       "      <td>2000</td>\n",
       "      <td>0</td>\n",
       "      <td>479860000</td>\n",
       "    </tr>\n",
       "  </tbody>\n",
       "</table>\n",
       "</div>"
      ],
      "text/plain": [
       "    keyword_id  keyword_rank       date  searches  search_engine    wr_daily\n",
       "0       338145         25218 2022-07-08     53000              0  1336554000\n",
       "1       366846        906743 2022-07-08         0              0           0\n",
       "2   8590017696        136761 2022-07-08      7000              0   957327000\n",
       "3   8590268435         60380 2022-07-08     20033              0  1209592540\n",
       "4  17179954797        239930 2022-07-08      2000              0   479860000"
      ]
     },
     "execution_count": 10,
     "metadata": {},
     "output_type": "execute_result"
    }
   ],
   "source": [
    "# Creation of a new column with the weighted rank of each keyword per day.\n",
    "traffic_df['wr_daily'] = traffic_df['keyword_rank']*traffic_df['searches']\n",
    "traffic_df.head()"
   ]
  },
  {
   "cell_type": "code",
   "execution_count": 11,
   "id": "e04449da-0efc-41b6-8e6e-1b04392b26e0",
   "metadata": {
    "tags": []
   },
   "outputs": [
    {
     "data": {
      "text/html": [
       "<div>\n",
       "<style scoped>\n",
       "    .dataframe tbody tr th:only-of-type {\n",
       "        vertical-align: middle;\n",
       "    }\n",
       "\n",
       "    .dataframe tbody tr th {\n",
       "        vertical-align: top;\n",
       "    }\n",
       "\n",
       "    .dataframe thead th {\n",
       "        text-align: right;\n",
       "    }\n",
       "</style>\n",
       "<table border=\"1\" class=\"dataframe\">\n",
       "  <thead>\n",
       "    <tr style=\"text-align: right;\">\n",
       "      <th></th>\n",
       "      <th>keyword_id</th>\n",
       "      <th>search_engine</th>\n",
       "      <th>searches_week</th>\n",
       "      <th>wr_week</th>\n",
       "    </tr>\n",
       "  </thead>\n",
       "  <tbody>\n",
       "    <tr>\n",
       "      <th>74285</th>\n",
       "      <td>2791728931918</td>\n",
       "      <td>12</td>\n",
       "      <td>1000</td>\n",
       "      <td>81292000</td>\n",
       "    </tr>\n",
       "    <tr>\n",
       "      <th>61610</th>\n",
       "      <td>2241972984189</td>\n",
       "      <td>13</td>\n",
       "      <td>2000</td>\n",
       "      <td>885884000</td>\n",
       "    </tr>\n",
       "    <tr>\n",
       "      <th>83366</th>\n",
       "      <td>3195455865041</td>\n",
       "      <td>10</td>\n",
       "      <td>0</td>\n",
       "      <td>0</td>\n",
       "    </tr>\n",
       "    <tr>\n",
       "      <th>74437</th>\n",
       "      <td>2800318778957</td>\n",
       "      <td>8</td>\n",
       "      <td>1000</td>\n",
       "      <td>80346000</td>\n",
       "    </tr>\n",
       "    <tr>\n",
       "      <th>93257</th>\n",
       "      <td>3650722319370</td>\n",
       "      <td>11</td>\n",
       "      <td>377613</td>\n",
       "      <td>6777028468</td>\n",
       "    </tr>\n",
       "  </tbody>\n",
       "</table>\n",
       "</div>"
      ],
      "text/plain": [
       "          keyword_id  search_engine  searches_week     wr_week\n",
       "74285  2791728931918             12           1000    81292000\n",
       "61610  2241972984189             13           2000   885884000\n",
       "83366  3195455865041             10              0           0\n",
       "74437  2800318778957              8           1000    80346000\n",
       "93257  3650722319370             11         377613  6777028468"
      ]
     },
     "execution_count": 11,
     "metadata": {},
     "output_type": "execute_result"
    }
   ],
   "source": [
    "# Creates a pivot table aggregating the sum of 'wr_daily' and 'searches' for the whole week.\n",
    "traffic_pivot = pd.pivot_table(traffic_df, values=['wr_daily', 'searches'], index=['keyword_id', 'search_engine'], aggfunc='sum')\n",
    "\n",
    "# Resets the index in order to simplify further data manipulation and analysis.\n",
    "traffic_pivot = traffic_pivot.reset_index()\n",
    "\n",
    "# Renames the columns to 'wr_week' and 'searches_week' for clarification.\n",
    "traffic_pivot = traffic_pivot.rename(columns={'wr_daily': 'wr_week', 'searches': 'searches_week'})\n",
    "\n",
    "traffic_pivot.sample(5)"
   ]
  },
  {
   "cell_type": "markdown",
   "id": "f80ff47a-9d4e-469c-a7bd-5c058606f76c",
   "metadata": {
    "jp-MarkdownHeadingCollapsed": true,
    "tags": []
   },
   "source": [
    "### 4.2 - Understanding the keywords and search engines"
   ]
  },
  {
   "cell_type": "markdown",
   "id": "52a1614c-3d77-4091-80a5-1beb9605e576",
   "metadata": {},
   "source": [
    "To comprehend the significance of each search engine, it is beneficial to initiate the analysis by visualizing the influence of individual search engines on our data. \n",
    "This entails considering factors such as search volumes, occurrences of 0 searches, and other relevant metrics."
   ]
  },
  {
   "cell_type": "code",
   "execution_count": 12,
   "id": "39509043-5b8c-4edf-954e-fe7012821c87",
   "metadata": {
    "tags": []
   },
   "outputs": [
    {
     "data": {
      "image/png": "[encoded data removed]",
      "text/plain": [
       "<Figure size 640x480 with 1 Axes>"
      ]
     },
     "metadata": {},
     "output_type": "display_data"
    }
   ],
   "source": [
    "## PLOT 1: VOLUME BY SEARCH ENGINE\n",
    "\n",
    "# Variable with the sum of searches for each search engine\n",
    "volume_by_engine = traffic_df.groupby('search_engine')['searches'].sum()\n",
    "\n",
    "# Plot a stacked bar graph\n",
    "volume_by_engine.plot(kind='bar', color='skyblue')\n",
    "\n",
    "# Adding labels and title\n",
    "plt.xlabel('Search Engine')\n",
    "plt.ylabel('Total Search Volume')\n",
    "plt.title('Total Search Volume by Search Engine')\n",
    "\n",
    "# Displaying the plot\n",
    "plt.show()"
   ]
  },
  {
   "cell_type": "code",
   "execution_count": 13,
   "id": "8717e3a6-62a5-4ab5-bb10-70540cb8a071",
   "metadata": {
    "tags": []
   },
   "outputs": [
    {
     "data": {
      "text/html": [
       "<div>\n",
       "<style scoped>\n",
       "    .dataframe tbody tr th:only-of-type {\n",
       "        vertical-align: middle;\n",
       "    }\n",
       "\n",
       "    .dataframe tbody tr th {\n",
       "        vertical-align: top;\n",
       "    }\n",
       "\n",
       "    .dataframe thead th {\n",
       "        text-align: right;\n",
       "    }\n",
       "</style>\n",
       "<table border=\"1\" class=\"dataframe\">\n",
       "  <thead>\n",
       "    <tr style=\"text-align: right;\">\n",
       "      <th></th>\n",
       "      <th>keyword_id</th>\n",
       "      <th>search_engine</th>\n",
       "      <th>searches_week</th>\n",
       "      <th>wr_week</th>\n",
       "      <th>has_searches</th>\n",
       "    </tr>\n",
       "  </thead>\n",
       "  <tbody>\n",
       "    <tr>\n",
       "      <th>26644</th>\n",
       "      <td>858993588040</td>\n",
       "      <td>4</td>\n",
       "      <td>2000</td>\n",
       "      <td>989152000</td>\n",
       "      <td>True</td>\n",
       "    </tr>\n",
       "    <tr>\n",
       "      <th>58473</th>\n",
       "      <td>2113123966576</td>\n",
       "      <td>3</td>\n",
       "      <td>1000</td>\n",
       "      <td>170841000</td>\n",
       "      <td>True</td>\n",
       "    </tr>\n",
       "    <tr>\n",
       "      <th>75550</th>\n",
       "      <td>2851858368915</td>\n",
       "      <td>4</td>\n",
       "      <td>0</td>\n",
       "      <td>0</td>\n",
       "      <td>False</td>\n",
       "    </tr>\n",
       "    <tr>\n",
       "      <th>9210</th>\n",
       "      <td>274877980152</td>\n",
       "      <td>8</td>\n",
       "      <td>27083</td>\n",
       "      <td>1062896602</td>\n",
       "      <td>True</td>\n",
       "    </tr>\n",
       "    <tr>\n",
       "      <th>68733</th>\n",
       "      <td>2551210591917</td>\n",
       "      <td>0</td>\n",
       "      <td>0</td>\n",
       "      <td>0</td>\n",
       "      <td>False</td>\n",
       "    </tr>\n",
       "  </tbody>\n",
       "</table>\n",
       "</div>"
      ],
      "text/plain": [
       "          keyword_id  search_engine  searches_week     wr_week  has_searches\n",
       "26644   858993588040              4           2000   989152000          True\n",
       "58473  2113123966576              3           1000   170841000          True\n",
       "75550  2851858368915              4              0           0         False\n",
       "9210    274877980152              8          27083  1062896602          True\n",
       "68733  2551210591917              0              0           0         False"
      ]
     },
     "execution_count": 13,
     "metadata": {},
     "output_type": "execute_result"
    }
   ],
   "source": [
    "'''\n",
    "During the exploratory analysis using .describe(), we observed that at least 50% of the searches have a value of 0. \n",
    "To maintain relevance and avoid divisions by zero in subsequent analyses and rankings, the decision is to identify and exclude these entries.\n",
    "'''\n",
    "# Creates a new column in our pivot dataframe that categorizes searches depending if they have or not any volume\n",
    "traffic_pivot['has_searches'] = traffic_pivot['searches_week'] > 0\n",
    "traffic_pivot.sample(5)"
   ]
  },
  {
   "cell_type": "code",
   "execution_count": 14,
   "id": "95e995e2-b908-40da-a91b-4f7b82a58985",
   "metadata": {
    "tags": []
   },
   "outputs": [
    {
     "data": {
      "image/png": "[encoded data removed]",
      "text/plain": [
       "<Figure size 640x480 with 1 Axes>"
      ]
     },
     "metadata": {},
     "output_type": "display_data"
    }
   ],
   "source": [
    "## PLOT 2: PERCENTAGE OF KEYWORDS WITH OR WITHOUT SEARCH VOLUME\n",
    "\n",
    "# Counting the number of keywords with 0 searches and keywords with searches\n",
    "searches_count = traffic_pivot['has_searches'].value_counts()\n",
    "# Creating a bar plot\n",
    "ax = searches_count.plot(kind='bar', color=['skyblue', 'darkblue'])\n",
    "\n",
    "# Adding labels and title\n",
    "plt.xlabel('Searches')\n",
    "plt.ylabel('Number of Keywords')\n",
    "plt.title('Distribution of Keywords by Searches')\n",
    "\n",
    "# Adding percentage labels on each bar\n",
    "total_keywords = searches_count.sum()\n",
    "for i, count in enumerate(searches_count):\n",
    "    percentage = (count / total_keywords) * 100\n",
    "    ax.text(i, count, f'{percentage:.2f}%', ha='center', va='bottom')\n",
    "\n",
    "# Displaying the plot\n",
    "plt.show()"
   ]
  },
  {
   "cell_type": "code",
   "execution_count": 15,
   "id": "53024552-f9be-40c9-8a72-9ccc8a58c1b3",
   "metadata": {
    "tags": []
   },
   "outputs": [
    {
     "data": {
      "image/png": "[encoded data removed]",
      "text/plain": [
       "<Figure size 640x480 with 1 Axes>"
      ]
     },
     "metadata": {},
     "output_type": "display_data"
    }
   ],
   "source": [
    "## PLOT 3: KEYWORDS ACCROSS SEARCH ENGINES ACCORDING TO ITS SEARCH VOLUME & STATUS\n",
    "\n",
    "# Variable with counts of searches and no searches for each search engine\n",
    "searches_counts = traffic_pivot.groupby(['search_engine', 'has_searches']).size().unstack(fill_value=0)\n",
    "\n",
    "# Plot a stacked bar graph\n",
    "searches_counts.plot(kind='bar', stacked=True, color=['lightcoral', 'skyblue'])\n",
    "\n",
    "# Adding labels and title\n",
    "plt.xlabel('Search Engine')\n",
    "plt.ylabel('Number of Keywords')\n",
    "plt.title('Distribution of Keywords by Search Engine and Searches')\n",
    "\n",
    "# Displaying the plot\n",
    "plt.show()"
   ]
  },
  {
   "cell_type": "code",
   "execution_count": 16,
   "id": "fc46a98a-e84f-404e-a88a-29d647fd443f",
   "metadata": {
    "tags": []
   },
   "outputs": [
    {
     "data": {
      "image/png": "[encoded data removed]",
      "text/plain": [
       "<Figure size 640x480 with 1 Axes>"
      ]
     },
     "metadata": {},
     "output_type": "display_data"
    }
   ],
   "source": [
    "## PLOT 4: KEYWORDS BY SEARCH VOLUME RANGE\n",
    "\n",
    "# Define the bins for search volume\n",
    "bins = [1000, 2000, 8000, 34000, 100000, 1000000, float('inf')]\n",
    "\n",
    "# Create labels for the bins\n",
    "labels = ['1K-2k','2k-8k', '8k-34k', '34k-100k', '100k-1M', '1M+']\n",
    "\n",
    "# Create a new column with the search volume range for each keyword\n",
    "traffic_pivot['search_volume_range'] = pd.cut(traffic_pivot.loc[traffic_pivot['has_searches']==True, 'searches_week'], bins=bins, labels=labels, right=False)\n",
    "\n",
    "# Count the number of keywords in each search volume range\n",
    "volume_counts = traffic_pivot['search_volume_range'].value_counts().sort_index()\n",
    "\n",
    "# Calculate percentages\n",
    "volume_percentages = (volume_counts / len(traffic_pivot.loc[traffic_pivot['has_searches']==True])) * 100\n",
    "\n",
    "# Create a bar plot\n",
    "ax = volume_counts.plot(kind='bar', color='skyblue')\n",
    "\n",
    "# Adding labels and title\n",
    "plt.xlabel('Search Volume Range')\n",
    "plt.ylabel('Number of Keywords')\n",
    "plt.title('Distribution of Keywords by Search Volume Range (excluding 0 search volume)')\n",
    "\n",
    "# Add percentage labels on top of each bar\n",
    "for i, percentage in enumerate(volume_percentages):\n",
    "    ax.text(i, percentage + 1, f'{percentage:.2f}%', ha='center', va='bottom', fontsize=8, color='black')\n",
    "\n",
    "# Displaying the plot\n",
    "plt.show()"
   ]
  },
  {
   "cell_type": "markdown",
   "id": "5dfaf607-1dd6-430a-b827-c689c79e93d8",
   "metadata": {},
   "source": [
    "OBSERVATION: \n",
    "\n",
    "Upon reviewing the visualized data, it becomes evident that fewer than half of our keywords experienced any search volume throughout the week.\n",
    "\n",
    "Notably, search engines 6 and 11 emerged as leaders in terms of search volume, while search engine 4 stood out for its significant contribution to keywords, whether they had searches or not.  \n",
    "\n",
    "It's interesting to note that out of the keywords with search volume (49% of them), the majority (75%) have a volume of 34K or less, while only a small portion (12%) have more than 100K searches.\n",
    "\n",
    "Let's narrow our focus to keywords that generated traffic and consequently obtained a weighted rank above 0!"
   ]
  },
  {
   "cell_type": "markdown",
   "id": "b599943f-07d2-49fc-9127-a3a4af9faddc",
   "metadata": {
    "jp-MarkdownHeadingCollapsed": true,
    "tags": []
   },
   "source": [
    "### 4.3 - Calculating Weekly Weighted Average Rank for each entry"
   ]
  },
  {
   "cell_type": "code",
   "execution_count": 17,
   "id": "cd4d97b3-6fc1-4adf-91c9-1868c59c62a5",
   "metadata": {
    "tags": []
   },
   "outputs": [],
   "source": [
    "# Creates a new dataframe with only those keyword_id\n",
    "\n",
    "yes_traffic_pivot= traffic_pivot.loc[traffic_pivot.has_searches==True, ['keyword_id', 'search_engine', 'searches_week', 'wr_week']].copy()"
   ]
  },
  {
   "cell_type": "code",
   "execution_count": 18,
   "id": "5e352a16-f61b-4285-94e6-a2aa69dfb4a0",
   "metadata": {
    "tags": []
   },
   "outputs": [
    {
     "data": {
      "text/html": [
       "<div>\n",
       "<style scoped>\n",
       "    .dataframe tbody tr th:only-of-type {\n",
       "        vertical-align: middle;\n",
       "    }\n",
       "\n",
       "    .dataframe tbody tr th {\n",
       "        vertical-align: top;\n",
       "    }\n",
       "\n",
       "    .dataframe thead th {\n",
       "        text-align: right;\n",
       "    }\n",
       "</style>\n",
       "<table border=\"1\" class=\"dataframe\">\n",
       "  <thead>\n",
       "    <tr style=\"text-align: right;\">\n",
       "      <th></th>\n",
       "      <th>keyword_id</th>\n",
       "      <th>search_engine</th>\n",
       "      <th>searches_week</th>\n",
       "      <th>wr_week</th>\n",
       "      <th>ww_avg_rank</th>\n",
       "    </tr>\n",
       "  </thead>\n",
       "  <tbody>\n",
       "    <tr>\n",
       "      <th>14845</th>\n",
       "      <td>446677071645</td>\n",
       "      <td>15</td>\n",
       "      <td>8099</td>\n",
       "      <td>712491343</td>\n",
       "      <td>87972.76</td>\n",
       "    </tr>\n",
       "    <tr>\n",
       "      <th>27977</th>\n",
       "      <td>910533121189</td>\n",
       "      <td>0</td>\n",
       "      <td>1000</td>\n",
       "      <td>729631000</td>\n",
       "      <td>729631.00</td>\n",
       "    </tr>\n",
       "    <tr>\n",
       "      <th>60573</th>\n",
       "      <td>2199023303167</td>\n",
       "      <td>0</td>\n",
       "      <td>41760</td>\n",
       "      <td>5711034169</td>\n",
       "      <td>136758.48</td>\n",
       "    </tr>\n",
       "    <tr>\n",
       "      <th>84374</th>\n",
       "      <td>3238405740323</td>\n",
       "      <td>11</td>\n",
       "      <td>84000</td>\n",
       "      <td>4170799000</td>\n",
       "      <td>49652.37</td>\n",
       "    </tr>\n",
       "    <tr>\n",
       "      <th>4400</th>\n",
       "      <td>120259547858</td>\n",
       "      <td>0</td>\n",
       "      <td>7000</td>\n",
       "      <td>2391014000</td>\n",
       "      <td>341573.43</td>\n",
       "    </tr>\n",
       "  </tbody>\n",
       "</table>\n",
       "</div>"
      ],
      "text/plain": [
       "          keyword_id  search_engine  searches_week     wr_week  ww_avg_rank\n",
       "14845   446677071645             15           8099   712491343     87972.76\n",
       "27977   910533121189              0           1000   729631000    729631.00\n",
       "60573  2199023303167              0          41760  5711034169    136758.48\n",
       "84374  3238405740323             11          84000  4170799000     49652.37\n",
       "4400    120259547858              0           7000  2391014000    341573.43"
      ]
     },
     "execution_count": 18,
     "metadata": {},
     "output_type": "execute_result"
    }
   ],
   "source": [
    "# Calculates the weekly weighted average rank. It divides the 'wr_week' (aggregated daily weighted rank) by the 'searches_week' column\n",
    "\n",
    "yes_traffic_pivot['ww_avg_rank'] = round((yes_traffic_pivot['wr_week'] / yes_traffic_pivot['searches_week']),2)\n",
    "yes_traffic_pivot.sample(5)"
   ]
  },
  {
   "cell_type": "code",
   "execution_count": 19,
   "id": "c5077912-c7a3-4e5d-8545-92247e466ec4",
   "metadata": {
    "tags": []
   },
   "outputs": [
    {
     "data": {
      "text/html": [
       "<div>\n",
       "<style scoped>\n",
       "    .dataframe tbody tr th:only-of-type {\n",
       "        vertical-align: middle;\n",
       "    }\n",
       "\n",
       "    .dataframe tbody tr th {\n",
       "        vertical-align: top;\n",
       "    }\n",
       "\n",
       "    .dataframe thead th {\n",
       "        text-align: right;\n",
       "    }\n",
       "</style>\n",
       "<table border=\"1\" class=\"dataframe\">\n",
       "  <thead>\n",
       "    <tr style=\"text-align: right;\">\n",
       "      <th></th>\n",
       "      <th>keyword_id</th>\n",
       "      <th>search_engine</th>\n",
       "      <th>searches_week</th>\n",
       "      <th>wr_week</th>\n",
       "      <th>ww_avg_rank</th>\n",
       "    </tr>\n",
       "  </thead>\n",
       "  <tbody>\n",
       "    <tr>\n",
       "      <th>count</th>\n",
       "      <td>5.338300e+04</td>\n",
       "      <td>53383.000000</td>\n",
       "      <td>5.338300e+04</td>\n",
       "      <td>5.338300e+04</td>\n",
       "      <td>5.338300e+04</td>\n",
       "    </tr>\n",
       "    <tr>\n",
       "      <th>mean</th>\n",
       "      <td>1.911628e+12</td>\n",
       "      <td>7.228219</td>\n",
       "      <td>7.516922e+04</td>\n",
       "      <td>1.713891e+09</td>\n",
       "      <td>2.174755e+05</td>\n",
       "    </tr>\n",
       "    <tr>\n",
       "      <th>std</th>\n",
       "      <td>1.289359e+12</td>\n",
       "      <td>5.256564</td>\n",
       "      <td>4.820869e+05</td>\n",
       "      <td>2.193915e+09</td>\n",
       "      <td>4.536917e+05</td>\n",
       "    </tr>\n",
       "    <tr>\n",
       "      <th>min</th>\n",
       "      <td>8.341000e+03</td>\n",
       "      <td>0.000000</td>\n",
       "      <td>1.000000e+03</td>\n",
       "      <td>1.582000e+06</td>\n",
       "      <td>3.080000e+00</td>\n",
       "    </tr>\n",
       "    <tr>\n",
       "      <th>25%</th>\n",
       "      <td>7.559145e+11</td>\n",
       "      <td>4.000000</td>\n",
       "      <td>2.000000e+03</td>\n",
       "      <td>4.642900e+08</td>\n",
       "      <td>4.984523e+04</td>\n",
       "    </tr>\n",
       "    <tr>\n",
       "      <th>50%</th>\n",
       "      <td>1.760937e+12</td>\n",
       "      <td>6.000000</td>\n",
       "      <td>8.000000e+03</td>\n",
       "      <td>1.064721e+09</td>\n",
       "      <td>1.205700e+05</td>\n",
       "    </tr>\n",
       "    <tr>\n",
       "      <th>75%</th>\n",
       "      <td>2.997887e+12</td>\n",
       "      <td>11.000000</td>\n",
       "      <td>3.400000e+04</td>\n",
       "      <td>2.054646e+09</td>\n",
       "      <td>2.213070e+05</td>\n",
       "    </tr>\n",
       "    <tr>\n",
       "      <th>max</th>\n",
       "      <td>4.389457e+12</td>\n",
       "      <td>25.000000</td>\n",
       "      <td>5.002687e+07</td>\n",
       "      <td>1.259975e+11</td>\n",
       "      <td>1.367010e+07</td>\n",
       "    </tr>\n",
       "  </tbody>\n",
       "</table>\n",
       "</div>"
      ],
      "text/plain": [
       "         keyword_id  search_engine  searches_week       wr_week   ww_avg_rank\n",
       "count  5.338300e+04   53383.000000   5.338300e+04  5.338300e+04  5.338300e+04\n",
       "mean   1.911628e+12       7.228219   7.516922e+04  1.713891e+09  2.174755e+05\n",
       "std    1.289359e+12       5.256564   4.820869e+05  2.193915e+09  4.536917e+05\n",
       "min    8.341000e+03       0.000000   1.000000e+03  1.582000e+06  3.080000e+00\n",
       "25%    7.559145e+11       4.000000   2.000000e+03  4.642900e+08  4.984523e+04\n",
       "50%    1.760937e+12       6.000000   8.000000e+03  1.064721e+09  1.205700e+05\n",
       "75%    2.997887e+12      11.000000   3.400000e+04  2.054646e+09  2.213070e+05\n",
       "max    4.389457e+12      25.000000   5.002687e+07  1.259975e+11  1.367010e+07"
      ]
     },
     "execution_count": 19,
     "metadata": {},
     "output_type": "execute_result"
    }
   ],
   "source": [
    "yes_traffic_pivot.describe()"
   ]
  },
  {
   "cell_type": "markdown",
   "id": "bc90f31c-1683-45f4-a26f-2ef5bb3231eb",
   "metadata": {
    "tags": []
   },
   "source": [
    "#### 4.3.1 - Creating a Keyword Rank for each Search Engine"
   ]
  },
  {
   "cell_type": "code",
   "execution_count": 20,
   "id": "f880b611-0da5-4adc-bb4c-0654403f8233",
   "metadata": {
    "tags": []
   },
   "outputs": [
    {
     "data": {
      "text/html": [
       "<div>\n",
       "<style scoped>\n",
       "    .dataframe tbody tr th:only-of-type {\n",
       "        vertical-align: middle;\n",
       "    }\n",
       "\n",
       "    .dataframe tbody tr th {\n",
       "        vertical-align: top;\n",
       "    }\n",
       "\n",
       "    .dataframe thead th {\n",
       "        text-align: right;\n",
       "    }\n",
       "</style>\n",
       "<table border=\"1\" class=\"dataframe\">\n",
       "  <thead>\n",
       "    <tr style=\"text-align: right;\">\n",
       "      <th></th>\n",
       "      <th>keyword_id</th>\n",
       "      <th>search_engine</th>\n",
       "      <th>searches_week</th>\n",
       "      <th>wr_week</th>\n",
       "      <th>ww_avg_rank</th>\n",
       "      <th>rank</th>\n",
       "    </tr>\n",
       "  </thead>\n",
       "  <tbody>\n",
       "    <tr>\n",
       "      <th>11044</th>\n",
       "      <td>326417911280</td>\n",
       "      <td>12</td>\n",
       "      <td>71121</td>\n",
       "      <td>956942927</td>\n",
       "      <td>13455.14</td>\n",
       "      <td>178.0</td>\n",
       "    </tr>\n",
       "    <tr>\n",
       "      <th>80815</th>\n",
       "      <td>3083786607006</td>\n",
       "      <td>25</td>\n",
       "      <td>1766815</td>\n",
       "      <td>327284561</td>\n",
       "      <td>185.24</td>\n",
       "      <td>9.0</td>\n",
       "    </tr>\n",
       "    <tr>\n",
       "      <th>67952</th>\n",
       "      <td>2516850897335</td>\n",
       "      <td>1</td>\n",
       "      <td>18071</td>\n",
       "      <td>5198916334</td>\n",
       "      <td>287693.89</td>\n",
       "      <td>1720.0</td>\n",
       "    </tr>\n",
       "    <tr>\n",
       "      <th>14545</th>\n",
       "      <td>438087065577</td>\n",
       "      <td>0</td>\n",
       "      <td>3000</td>\n",
       "      <td>1655162000</td>\n",
       "      <td>551720.67</td>\n",
       "      <td>2658.0</td>\n",
       "    </tr>\n",
       "    <tr>\n",
       "      <th>65746</th>\n",
       "      <td>2413771910257</td>\n",
       "      <td>4</td>\n",
       "      <td>1000</td>\n",
       "      <td>1041058000</td>\n",
       "      <td>1041058.00</td>\n",
       "      <td>8016.0</td>\n",
       "    </tr>\n",
       "    <tr>\n",
       "      <th>55351</th>\n",
       "      <td>1975685080951</td>\n",
       "      <td>15</td>\n",
       "      <td>27748</td>\n",
       "      <td>1359445196</td>\n",
       "      <td>48992.55</td>\n",
       "      <td>513.0</td>\n",
       "    </tr>\n",
       "    <tr>\n",
       "      <th>86423</th>\n",
       "      <td>3332894742152</td>\n",
       "      <td>4</td>\n",
       "      <td>3000</td>\n",
       "      <td>1199478000</td>\n",
       "      <td>399826.00</td>\n",
       "      <td>7405.0</td>\n",
       "    </tr>\n",
       "    <tr>\n",
       "      <th>100387</th>\n",
       "      <td>3977140173633</td>\n",
       "      <td>5</td>\n",
       "      <td>5000</td>\n",
       "      <td>629215000</td>\n",
       "      <td>125843.00</td>\n",
       "      <td>1545.0</td>\n",
       "    </tr>\n",
       "    <tr>\n",
       "      <th>82807</th>\n",
       "      <td>3169686022931</td>\n",
       "      <td>1</td>\n",
       "      <td>239999</td>\n",
       "      <td>9582083637</td>\n",
       "      <td>39925.51</td>\n",
       "      <td>302.0</td>\n",
       "    </tr>\n",
       "    <tr>\n",
       "      <th>76748</th>\n",
       "      <td>2903397960962</td>\n",
       "      <td>9</td>\n",
       "      <td>2000</td>\n",
       "      <td>364564000</td>\n",
       "      <td>182282.00</td>\n",
       "      <td>2366.0</td>\n",
       "    </tr>\n",
       "  </tbody>\n",
       "</table>\n",
       "</div>"
      ],
      "text/plain": [
       "           keyword_id  search_engine  searches_week     wr_week  ww_avg_rank  \\\n",
       "11044    326417911280             12          71121   956942927     13455.14   \n",
       "80815   3083786607006             25        1766815   327284561       185.24   \n",
       "67952   2516850897335              1          18071  5198916334    287693.89   \n",
       "14545    438087065577              0           3000  1655162000    551720.67   \n",
       "65746   2413771910257              4           1000  1041058000   1041058.00   \n",
       "55351   1975685080951             15          27748  1359445196     48992.55   \n",
       "86423   3332894742152              4           3000  1199478000    399826.00   \n",
       "100387  3977140173633              5           5000   629215000    125843.00   \n",
       "82807   3169686022931              1         239999  9582083637     39925.51   \n",
       "76748   2903397960962              9           2000   364564000    182282.00   \n",
       "\n",
       "          rank  \n",
       "11044    178.0  \n",
       "80815      9.0  \n",
       "67952   1720.0  \n",
       "14545   2658.0  \n",
       "65746   8016.0  \n",
       "55351    513.0  \n",
       "86423   7405.0  \n",
       "100387  1545.0  \n",
       "82807    302.0  \n",
       "76748   2366.0  "
      ]
     },
     "execution_count": 20,
     "metadata": {},
     "output_type": "execute_result"
    }
   ],
   "source": [
    "yes_traffic_pivot['rank']= yes_traffic_pivot.groupby('search_engine')['ww_avg_rank'].rank('dense')\n",
    "yes_traffic_pivot.sample(10)"
   ]
  },
  {
   "cell_type": "code",
   "execution_count": 21,
   "id": "ddbee0bd-f8bf-4988-ae59-3f399551bf04",
   "metadata": {
    "tags": []
   },
   "outputs": [
    {
     "data": {
      "text/html": [
       "<div>\n",
       "<style scoped>\n",
       "    .dataframe tbody tr th:only-of-type {\n",
       "        vertical-align: middle;\n",
       "    }\n",
       "\n",
       "    .dataframe tbody tr th {\n",
       "        vertical-align: top;\n",
       "    }\n",
       "\n",
       "    .dataframe thead th {\n",
       "        text-align: right;\n",
       "    }\n",
       "</style>\n",
       "<table border=\"1\" class=\"dataframe\">\n",
       "  <thead>\n",
       "    <tr style=\"text-align: right;\">\n",
       "      <th></th>\n",
       "      <th>keyword_id</th>\n",
       "      <th>search_engine</th>\n",
       "      <th>searches_week</th>\n",
       "      <th>ww_avg_rank</th>\n",
       "      <th>rank</th>\n",
       "    </tr>\n",
       "  </thead>\n",
       "  <tbody>\n",
       "    <tr>\n",
       "      <th>9627</th>\n",
       "      <td>283468093540</td>\n",
       "      <td>0</td>\n",
       "      <td>9512016</td>\n",
       "      <td>299.91</td>\n",
       "      <td>1.0</td>\n",
       "    </tr>\n",
       "    <tr>\n",
       "      <th>22380</th>\n",
       "      <td>704374905883</td>\n",
       "      <td>1</td>\n",
       "      <td>19481897</td>\n",
       "      <td>78.26</td>\n",
       "      <td>1.0</td>\n",
       "    </tr>\n",
       "    <tr>\n",
       "      <th>93175</th>\n",
       "      <td>3650722206274</td>\n",
       "      <td>2</td>\n",
       "      <td>85040</td>\n",
       "      <td>13813.10</td>\n",
       "      <td>1.0</td>\n",
       "    </tr>\n",
       "    <tr>\n",
       "      <th>103954</th>\n",
       "      <td>4148938482137</td>\n",
       "      <td>3</td>\n",
       "      <td>3478171</td>\n",
       "      <td>142.36</td>\n",
       "      <td>1.0</td>\n",
       "    </tr>\n",
       "    <tr>\n",
       "      <th>10519</th>\n",
       "      <td>309238066050</td>\n",
       "      <td>4</td>\n",
       "      <td>8062389</td>\n",
       "      <td>18.19</td>\n",
       "      <td>1.0</td>\n",
       "    </tr>\n",
       "    <tr>\n",
       "      <th>14620</th>\n",
       "      <td>446676669250</td>\n",
       "      <td>5</td>\n",
       "      <td>4512026</td>\n",
       "      <td>99.78</td>\n",
       "      <td>1.0</td>\n",
       "    </tr>\n",
       "    <tr>\n",
       "      <th>32723</th>\n",
       "      <td>1073742334476</td>\n",
       "      <td>6</td>\n",
       "      <td>33569733</td>\n",
       "      <td>28.72</td>\n",
       "      <td>1.0</td>\n",
       "    </tr>\n",
       "    <tr>\n",
       "      <th>12342</th>\n",
       "      <td>369367302479</td>\n",
       "      <td>7</td>\n",
       "      <td>8880784</td>\n",
       "      <td>80.35</td>\n",
       "      <td>1.0</td>\n",
       "    </tr>\n",
       "    <tr>\n",
       "      <th>46356</th>\n",
       "      <td>1606317975332</td>\n",
       "      <td>8</td>\n",
       "      <td>9485243</td>\n",
       "      <td>7.87</td>\n",
       "      <td>1.0</td>\n",
       "    </tr>\n",
       "    <tr>\n",
       "      <th>33123</th>\n",
       "      <td>1090922017637</td>\n",
       "      <td>9</td>\n",
       "      <td>6259970</td>\n",
       "      <td>133.48</td>\n",
       "      <td>1.0</td>\n",
       "    </tr>\n",
       "    <tr>\n",
       "      <th>29422</th>\n",
       "      <td>953483220498</td>\n",
       "      <td>10</td>\n",
       "      <td>4134516</td>\n",
       "      <td>45.06</td>\n",
       "      <td>1.0</td>\n",
       "    </tr>\n",
       "    <tr>\n",
       "      <th>28170</th>\n",
       "      <td>910533449676</td>\n",
       "      <td>11</td>\n",
       "      <td>50026868</td>\n",
       "      <td>29.71</td>\n",
       "      <td>1.0</td>\n",
       "    </tr>\n",
       "    <tr>\n",
       "      <th>438</th>\n",
       "      <td>8590061587</td>\n",
       "      <td>12</td>\n",
       "      <td>1280067</td>\n",
       "      <td>474.56</td>\n",
       "      <td>1.0</td>\n",
       "    </tr>\n",
       "    <tr>\n",
       "      <th>45011</th>\n",
       "      <td>1554778255514</td>\n",
       "      <td>13</td>\n",
       "      <td>29706897</td>\n",
       "      <td>3.08</td>\n",
       "      <td>1.0</td>\n",
       "    </tr>\n",
       "    <tr>\n",
       "      <th>34208</th>\n",
       "      <td>1133871515516</td>\n",
       "      <td>14</td>\n",
       "      <td>2420435</td>\n",
       "      <td>459.89</td>\n",
       "      <td>1.0</td>\n",
       "    </tr>\n",
       "    <tr>\n",
       "      <th>56765</th>\n",
       "      <td>2035814640613</td>\n",
       "      <td>15</td>\n",
       "      <td>2621526</td>\n",
       "      <td>766.01</td>\n",
       "      <td>1.0</td>\n",
       "    </tr>\n",
       "    <tr>\n",
       "      <th>6090</th>\n",
       "      <td>171799086383</td>\n",
       "      <td>16</td>\n",
       "      <td>13000965</td>\n",
       "      <td>62.46</td>\n",
       "      <td>1.0</td>\n",
       "    </tr>\n",
       "    <tr>\n",
       "      <th>98979</th>\n",
       "      <td>3908420721521</td>\n",
       "      <td>17</td>\n",
       "      <td>257261</td>\n",
       "      <td>136.48</td>\n",
       "      <td>1.0</td>\n",
       "    </tr>\n",
       "    <tr>\n",
       "      <th>29916</th>\n",
       "      <td>979252599951</td>\n",
       "      <td>18</td>\n",
       "      <td>2910642</td>\n",
       "      <td>319.43</td>\n",
       "      <td>1.0</td>\n",
       "    </tr>\n",
       "    <tr>\n",
       "      <th>4268</th>\n",
       "      <td>120259234373</td>\n",
       "      <td>19</td>\n",
       "      <td>9499018</td>\n",
       "      <td>42.69</td>\n",
       "      <td>1.0</td>\n",
       "    </tr>\n",
       "    <tr>\n",
       "      <th>60667</th>\n",
       "      <td>2199023390714</td>\n",
       "      <td>20</td>\n",
       "      <td>376221</td>\n",
       "      <td>342.24</td>\n",
       "      <td>1.0</td>\n",
       "    </tr>\n",
       "    <tr>\n",
       "      <th>70573</th>\n",
       "      <td>2628520089616</td>\n",
       "      <td>21</td>\n",
       "      <td>1210169</td>\n",
       "      <td>59.21</td>\n",
       "      <td>1.0</td>\n",
       "    </tr>\n",
       "    <tr>\n",
       "      <th>83095</th>\n",
       "      <td>3186865806120</td>\n",
       "      <td>22</td>\n",
       "      <td>497752</td>\n",
       "      <td>410.77</td>\n",
       "      <td>1.0</td>\n",
       "    </tr>\n",
       "    <tr>\n",
       "      <th>15298</th>\n",
       "      <td>463856792110</td>\n",
       "      <td>23</td>\n",
       "      <td>91902</td>\n",
       "      <td>203.53</td>\n",
       "      <td>1.0</td>\n",
       "    </tr>\n",
       "    <tr>\n",
       "      <th>81965</th>\n",
       "      <td>3135326202085</td>\n",
       "      <td>24</td>\n",
       "      <td>11257764</td>\n",
       "      <td>161.98</td>\n",
       "      <td>1.0</td>\n",
       "    </tr>\n",
       "    <tr>\n",
       "      <th>83650</th>\n",
       "      <td>3212635610681</td>\n",
       "      <td>25</td>\n",
       "      <td>10484528</td>\n",
       "      <td>18.74</td>\n",
       "      <td>1.0</td>\n",
       "    </tr>\n",
       "  </tbody>\n",
       "</table>\n",
       "</div>"
      ],
      "text/plain": [
       "           keyword_id  search_engine  searches_week  ww_avg_rank  rank\n",
       "9627     283468093540              0        9512016       299.91   1.0\n",
       "22380    704374905883              1       19481897        78.26   1.0\n",
       "93175   3650722206274              2          85040     13813.10   1.0\n",
       "103954  4148938482137              3        3478171       142.36   1.0\n",
       "10519    309238066050              4        8062389        18.19   1.0\n",
       "14620    446676669250              5        4512026        99.78   1.0\n",
       "32723   1073742334476              6       33569733        28.72   1.0\n",
       "12342    369367302479              7        8880784        80.35   1.0\n",
       "46356   1606317975332              8        9485243         7.87   1.0\n",
       "33123   1090922017637              9        6259970       133.48   1.0\n",
       "29422    953483220498             10        4134516        45.06   1.0\n",
       "28170    910533449676             11       50026868        29.71   1.0\n",
       "438        8590061587             12        1280067       474.56   1.0\n",
       "45011   1554778255514             13       29706897         3.08   1.0\n",
       "34208   1133871515516             14        2420435       459.89   1.0\n",
       "56765   2035814640613             15        2621526       766.01   1.0\n",
       "6090     171799086383             16       13000965        62.46   1.0\n",
       "98979   3908420721521             17         257261       136.48   1.0\n",
       "29916    979252599951             18        2910642       319.43   1.0\n",
       "4268     120259234373             19        9499018        42.69   1.0\n",
       "60667   2199023390714             20         376221       342.24   1.0\n",
       "70573   2628520089616             21        1210169        59.21   1.0\n",
       "83095   3186865806120             22         497752       410.77   1.0\n",
       "15298    463856792110             23          91902       203.53   1.0\n",
       "81965   3135326202085             24       11257764       161.98   1.0\n",
       "83650   3212635610681             25       10484528        18.74   1.0"
      ]
     },
     "execution_count": 21,
     "metadata": {},
     "output_type": "execute_result"
    }
   ],
   "source": [
    "yes_traffic_pivot.loc[yes_traffic_pivot['rank']==1.0, \n",
    "                      ['keyword_id', 'search_engine', 'searches_week', 'ww_avg_rank','rank']\n",
    "                     ].sort_values(['search_engine'])"
   ]
  },
  {
   "cell_type": "code",
   "execution_count": 22,
   "id": "a10bcbc8-da81-4248-bfb3-c289ba7d0725",
   "metadata": {
    "tags": []
   },
   "outputs": [],
   "source": [
    "def retrieve_searches(rank):\n",
    "    \"\"\"\n",
    "    Retrieves and prints data for keywords with a specific rank.\n",
    "\n",
    "    Parameters:\n",
    "    - rank (float): The desired rank.\n",
    "    \"\"\"\n",
    "    result_df = yes_traffic_pivot.loc[yes_traffic_pivot['rank'] == rank, \n",
    "                                      ['keyword_id', 'search_engine', 'searches_week', 'ww_avg_rank', 'rank']\n",
    "                                     ].sort_values(['search_engine'])\n",
    "\n",
    "    # Print information for each search engine\n",
    "    for _, row in result_df.iterrows():\n",
    "        searches_with_separator = '{:,}'.format(int(row['searches_week']))\n",
    "        print(f\"SE {int(row['search_engine'])} has for its {rank} rank keyworkd {searches_with_separator} searches.\\n\")\n",
    "    return"
   ]
  },
  {
   "cell_type": "markdown",
   "id": "dd0a3b7d-4e7d-4e7e-a44b-e883c960ed4a",
   "metadata": {
    "tags": []
   },
   "source": [
    "## 5 - Answering: How many searches does the keyword with rank 1 receive for each search engine?"
   ]
  },
  {
   "cell_type": "code",
   "execution_count": 23,
   "id": "6de676c7-bc80-4d2c-bdd5-5b2b0cb992a5",
   "metadata": {
    "tags": []
   },
   "outputs": [
    {
     "name": "stdout",
     "output_type": "stream",
     "text": [
      "SE 0 has for its 1 rank keyworkd 9,512,016 searches.\n",
      "\n",
      "SE 1 has for its 1 rank keyworkd 19,481,897 searches.\n",
      "\n",
      "SE 2 has for its 1 rank keyworkd 85,040 searches.\n",
      "\n",
      "SE 3 has for its 1 rank keyworkd 3,478,171 searches.\n",
      "\n",
      "SE 4 has for its 1 rank keyworkd 8,062,389 searches.\n",
      "\n",
      "SE 5 has for its 1 rank keyworkd 4,512,026 searches.\n",
      "\n",
      "SE 6 has for its 1 rank keyworkd 33,569,733 searches.\n",
      "\n",
      "SE 7 has for its 1 rank keyworkd 8,880,784 searches.\n",
      "\n",
      "SE 8 has for its 1 rank keyworkd 9,485,243 searches.\n",
      "\n",
      "SE 9 has for its 1 rank keyworkd 6,259,970 searches.\n",
      "\n",
      "SE 10 has for its 1 rank keyworkd 4,134,516 searches.\n",
      "\n",
      "SE 11 has for its 1 rank keyworkd 50,026,868 searches.\n",
      "\n",
      "SE 12 has for its 1 rank keyworkd 1,280,067 searches.\n",
      "\n",
      "SE 13 has for its 1 rank keyworkd 29,706,897 searches.\n",
      "\n",
      "SE 14 has for its 1 rank keyworkd 2,420,435 searches.\n",
      "\n",
      "SE 15 has for its 1 rank keyworkd 2,621,526 searches.\n",
      "\n",
      "SE 16 has for its 1 rank keyworkd 13,000,965 searches.\n",
      "\n",
      "SE 17 has for its 1 rank keyworkd 257,261 searches.\n",
      "\n",
      "SE 18 has for its 1 rank keyworkd 2,910,642 searches.\n",
      "\n",
      "SE 19 has for its 1 rank keyworkd 9,499,018 searches.\n",
      "\n",
      "SE 20 has for its 1 rank keyworkd 376,221 searches.\n",
      "\n",
      "SE 21 has for its 1 rank keyworkd 1,210,169 searches.\n",
      "\n",
      "SE 22 has for its 1 rank keyworkd 497,752 searches.\n",
      "\n",
      "SE 23 has for its 1 rank keyworkd 91,902 searches.\n",
      "\n",
      "SE 24 has for its 1 rank keyworkd 11,257,764 searches.\n",
      "\n",
      "SE 25 has for its 1 rank keyworkd 10,484,528 searches.\n",
      "\n",
      "None\n"
     ]
    }
   ],
   "source": [
    "print(retrieve_searches(1))"
   ]
  }
 ],
 "metadata": {
  "kernelspec": {
   "display_name": "Python 3 (ipykernel)",
   "language": "python",
   "name": "python3"
  },
  "language_info": {
   "codemirror_mode": {
    "name": "ipython",
    "version": 3
   },
   "file_extension": ".py",
   "mimetype": "text/x-python",
   "name": "python",
   "nbconvert_exporter": "python",
   "pygments_lexer": "ipython3",
   "version": "3.11.5"
  }
 },
 "nbformat": 4,
 "nbformat_minor": 5
}
